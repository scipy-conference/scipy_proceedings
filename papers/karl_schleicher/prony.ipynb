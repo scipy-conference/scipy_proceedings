{
 "metadata": {
  "name": ""
 },
 "nbformat": 3,
 "nbformat_minor": 0,
 "worksheets": [
  {
   "cells": [
    {
     "cell_type": "markdown",
     "metadata": {},
     "source": [
      "###Import some libraries.  Set some constants."
     ]
    },
    {
     "cell_type": "code",
     "collapsed": false,
     "input": [
      "# this places the plots inline in the notebook\n",
      "%matplotlib inline  \n",
      "import numpy as np\n",
      "import matplotlib.pyplot as plt\n",
      "from math import pi\n",
      "import scipy as sp\n",
      "import scipy.signal as sg\n",
      "import matplotlib.pyplot as plt"
     ],
     "language": "python",
     "metadata": {},
     "outputs": [],
     "prompt_number": 1
    },
    {
     "cell_type": "markdown",
     "metadata": {},
     "source": [
      "###Define next_radix function.  I could not find capability in scipy/numpy.  "
     ]
    },
    {
     "cell_type": "code",
     "collapsed": false,
     "input": [
      "def next_radix(n):\n",
      "    \"\"\"\n",
      "    Compute the smallest integer larger then n that factors into a \n",
      "    product of 2, 3, and 5.  This is used for a mixed radix fft that is \n",
      "    faster than an arbitrary length fft.  This is done my trying any i,\n",
      "    j, and k vaues to find the smallest 2**i * 3**j * 5**k.\n",
      "\n",
      "    input parameters:\n",
      "        n - request is for mixed radix greater or equal to this integer\n",
      "    return values:\n",
      "        fft_length - recommended radix for fft.\n",
      "    \"\"\"\n",
      "    min_exceeding_n=n*2+1\n",
      "    for i in range(0,15):\n",
      "        for j in range(0,15):\n",
      "            for k in range(0,15):\n",
      "                test=2**i*3**j*5**k\n",
      "                if test>=n: # test is large enough, so break out of loops\n",
      "                    # if test is smaller then all previous candidates\n",
      "                    if test<min_exceeding_n:\n",
      "                        min_exceeding_n=test\n",
      "                    break\n",
      "    return min_exceeding_n"
     ],
     "language": "python",
     "metadata": {},
     "outputs": [],
     "prompt_number": 2
    },
    {
     "cell_type": "markdown",
     "metadata": {},
     "source": [
      "###The models are created by putting spikes at time sample 51 and band limitting by zeroing the high frequencies in the Fourier domain\n",
      "####Set model size.  Initialize ramp for frequency limitting.  \n",
      "Frequency domain ramp is:\n",
      "<code>\n",
      "Frequency     Scale\n",
      " 0            1\n",
      ".4 nyquist    1\n",
      ".6 nyquist    0\n",
      "nyquist       0\n",
      "</code>\n",
      "  \n",
      "Display the ramp."
     ]
    },
    {
     "cell_type": "code",
     "collapsed": false,
     "input": [
      "#define size of test section\n",
      "nx=32\n",
      "dt=.004\n",
      "tmax=.400\n",
      "\n",
      "# derived parameters\n",
      "nt=int(tmax/dt)+1\n",
      "fft_length = next_radix(nt+125) # minimum pad is 125 points or .5s at 4ms\n",
      "# make the frequency domain ramp that scales \n",
      "# f=0          by 1\n",
      "# f=.4 nyquest by 1\n",
      "# f=.6 nyquist by 0\n",
      "# f=nyquist by 0\n",
      "\n",
      "nf=fft_length/2+1   # number of frequencies after real to complex fft\n",
      "rampstart=int(round(.4*nf))\n",
      "rampend  =int(round(.6*nf))\n",
      "ramplen  =rampend-rampstart+1\n",
      "nf=fft_length/2+1\n",
      "ramp=np.zeros(nf)\n",
      "ramp[0:rampstart]=1\n",
      "ramp[rampstart:rampstart+ramplen]=np.linspace(1.0,0.0,ramplen)\n",
      "ramp[rampstart+ramplen:]=0\n",
      "#plt.figure()\n",
      "plt.plot(ramp,'r')\n",
      "#plt.show()\n",
      "plt.savefig('ramp.png')\n",
      "plt.show()"
     ],
     "language": "python",
     "metadata": {},
     "outputs": [
      {
       "metadata": {},
       "output_type": "display_data",
       "png": "[encoded data removed]",
       "text": [
        "<matplotlib.figure.Figure at 0x10f297490>"
       ]
      }
     ],
     "prompt_number": 3
    },
    {
     "cell_type": "markdown",
     "metadata": {},
     "source": [
      "####Create the signal, noise, and data.  \n",
      "Signal is spike at .2 s increasing by 5%/trace.  Bandlimitted in frequency domain.  \n",
      "Noise is spike at .2 s constatnt amplitude. banns limitted in frequency domain.  \n",
      "Data is sum of signal and noise.\n",
      "\n",
      "Display all three sections (signal, noise, data)."
     ]
    },
    {
     "cell_type": "code",
     "collapsed": false,
     "input": [
      "#signal plane: spike at .2s amplitude increases with trace number\n",
      "s=np.zeros((nt,nx))\n",
      "s[51,:]=(1.05)**np.linspace(0.0,31.0,32)\n",
      "\n",
      "#noise plane: spike at .2s amplitude constant with trace\n",
      "n=np.zeros((nt,nx))\n",
      "n[51,:]=1.0\n",
      "\n",
      "#apply bandpass filter in frequency domain\n",
      "# forward fft\n",
      "S=np.fft.rfft(s,n=fft_length,axis=0)\n",
      "# multiply ramp onto signal in frequency domaim\n",
      "S*=ramp[:,np.newaxis]\n",
      "# inverse fft. extra [:nt,:] gets rid of fft padding\n",
      "s_filt=(np.fft.irfft(S,n=fft_length,axis=0))[:nt,:]\n",
      "\n",
      "# repeat the frequency domain bandpass filter on the noise\n",
      "N=np.fft.rfft(n,n=fft_length,axis=0)\n",
      "N*=ramp[:,np.newaxis]\n",
      "n_filt=(np.fft.irfft(N,n=fft_length,axis=0))[:nt,:]\n",
      "\n",
      "# data is sum of filtered signal and filtered noise\n",
      "D=S+N\n",
      "d=s_filt+n_filt\n",
      "\n",
      "# plot signal, noise, and data side by side.  sync the zoom & scroll\n",
      "view1=plt.subplot(1,3,1)\n",
      "plt.imshow(s_filt,aspect='auto')\n",
      "\n",
      "view2=plt.subplot(1,3,2,sharex=view1,sharey=view1)\n",
      "plt.imshow(n_filt,aspect='auto')\n",
      "\n",
      "view3=plt.subplot(1,3,3,sharex=view1,sharey=view1)\n",
      "plt.imshow(d,aspect='auto')\n",
      "plt.savefig('model.png')\n",
      "plt.show()\n"
     ],
     "language": "python",
     "metadata": {},
     "outputs": [
      {
       "metadata": {},
       "output_type": "display_data",
       "png": "[encoded data removed]",
       "text": [
        "<matplotlib.figure.Figure at 0x10f29ad90>"
       ]
      }
     ],
     "prompt_number": 4
    },
    {
     "cell_type": "markdown",
     "metadata": {},
     "source": [
      "####Compute the noise model, the noise section with a derivative filter "
     ]
    },
    {
     "cell_type": "code",
     "collapsed": false,
     "input": [
      "# compute the noise model.  figure 2a in Spitz paper.  Just make it\n",
      "# the negative of the derivative filter on the noise\n",
      "m=sg.lfilter(np.array([-1.0,1.0]),             # filter (numerator)\n",
      "             np.array([1.0]),                   # recursive filter (denominator)\n",
      "             n_filt,axis=0)                    # the filtered noise section\n",
      "\n",
      "M=np.fft.rfft(m,n=fft_length,axis=0)           # fourier domain\n",
      "\n",
      "view1=plt.subplot(1,2,1)\n",
      "plt.imshow(n_filt,aspect='auto')\n",
      "\n",
      "view2=plt.subplot(1,2,2,sharex=view1,sharey=view1)\n",
      "plt.imshow(m,aspect='auto')\n",
      "plt.savefig('noisemodel.png')\n",
      "plt.show()"
     ],
     "language": "python",
     "metadata": {},
     "outputs": [
      {
       "metadata": {},
       "output_type": "display_data",
       "png": "[encoded data removed]",
       "text": [
        "<matplotlib.figure.Figure at 0x10f40b890>"
       ]
      }
     ],
     "prompt_number": 5
    },
    {
     "cell_type": "markdown",
     "metadata": {},
     "source": [
      " ####Compute noise prediction filter, pfa\n",
      "pfa is the prediction filter from the multiple model.  Each point in M is predicted by the previous value scaled by pfa0. We want to get to best fit to the equations:\n",
      " <code>\n",
      "     M0              pfa0           M1\n",
      "     M1                             M2\n",
      "     M2         *           =       M3 \n",
      "     ...                            ...  \n",
      "     Mn-1                           Mn\n",
      "</code>\n",
      "The prediction error filter is the error made by the prediction filter.  The prediction error filter is 1 followed by the sign reversed prediction error filter.\n",
      "\n",
      "To continue in the next code fragment, solve this as a general general matrix problem. Do not compute a simple projection.\n"
     ]
    },
    {
     "cell_type": "code",
     "collapsed": false,
     "input": [
      "# work at one frequency for now\n",
      "ifreq=int(round(nf/4.0))\n",
      "\n",
      "# compute pefa, the prediction error filter from the noise (multiple)model\n",
      "Aa=np.matrix([M[ifreq,0:-1]]).transpose()\n",
      "ba=np.matrix(M[ifreq,1:]).transpose()\n",
      "# multiply both sides by A.transpose.conj\n",
      "AactAa=Aa.conj().transpose() * Aa\n",
      "Aactba=Aa.conj().transpose() * ba\n",
      "pfa=sp.linalg.solve(AactAa,Aactba,sym_pos=True)\n",
      "pefa=np.zeros(2,dtype=complex)\n",
      "pefa[0]=1.0\n",
      "pefa[1:]=-pfa[:,0]\n",
      "#print \"pfa=\",pfa\n",
      "print \"pefa=\",pefa"
     ],
     "language": "python",
     "metadata": {},
     "outputs": [
      {
       "output_type": "stream",
       "stream": "stdout",
       "text": [
        "pefa= [ 1.+0.j -1.-0.j]\n"
       ]
      }
     ],
     "prompt_number": 6
    },
    {
     "cell_type": "markdown",
     "metadata": {},
     "source": [
      "Spitz, paper says pefa should be (1,-1).  This code will produce complex numbers so the filter is pefa= [ 1.+0.j -1.-0.j].\n"
     ]
    },
    {
     "cell_type": "markdown",
     "metadata": {},
     "source": [
      "####Compute data prediction filter, pfb\n",
      "pfb is the prediction filter from data.  Each point in D is predicted by the sum of the two \n",
      "previous value scaled by pfb0 and pfb1. \n",
      "We want to get to best fit to the equations:\n",
      "<code>\n",
      "     D1   D0              pfb0          D2\n",
      "     D2   D1              pfb1          D3\n",
      "     D3   D2        *           =       D4 \n",
      "     ...                            ...  \n",
      "     Dn-1 Dn-2                          Dn\n",
      "</code>\n",
      "The prediction error filter is the error made by the prediction filter.  The prediction error filter is 1 followed by the sign reversed prediction filter.\n"
     ]
    },
    {
     "cell_type": "code",
     "collapsed": false,
     "input": [
      "# Now do it with the 2 point pfb. The prediction filter for the data.\n",
      "# The data has two events (the expoential signal), and the noise (the constant\n",
      "# multiple).\n",
      "# the equations are:\n",
      "#     D1    D0        pf0           D2\n",
      "#     D2    D1        pf1           D3\n",
      "#     D3    D2   *           =      D4\n",
      "#     ...                           ...\n",
      "#     Dn-1  Dn-2                    Dn\n",
      "#\n",
      "Ab=np.matrix([D[ifreq,1:-1],D[ifreq,0:-2]]).transpose()\n",
      "bb=np.matrix(D[ifreq,2:]).transpose()\n",
      "# multiply both sides by A.transpose.conj\n",
      "AbctAb=Ab.conj().transpose() * Ab\n",
      "Abctbb=Ab.conj().transpose() * bb\n",
      "\n",
      "pfb=sp.linalg.solve(AbctAb,Abctbb,sym_pos=True)\n",
      "pefb=np.zeros(3,dtype=complex)\n",
      "pefb[0]=1.0\n",
      "pefb[1:]=-pfb[:,0]\n",
      "\n",
      "\n",
      "print \"pefb=\",pefb"
     ],
     "language": "python",
     "metadata": {},
     "outputs": [
      {
       "output_type": "stream",
       "stream": "stdout",
       "text": [
        "pefb= [ 1.00+0.j -2.05-0.j  1.05-0.j]\n"
       ]
      }
     ],
     "prompt_number": 7
    },
    {
     "cell_type": "markdown",
     "metadata": {},
     "source": [
      "Spitz' paper says pefb should be (1, -2.05, 1.05).  This code will produce complex numbers, so the filter is pefb= [ 1.00+0.j -2.05-0.j  1.05-0.j]."
     ]
    },
    {
     "cell_type": "code",
     "collapsed": false,
     "input": [
      "#pefc is pef for the signal.  It is computed by deconvolving pfeb with pefa\n",
      "# and taking the first two points\n",
      "\n",
      "pefc=sg.lfilter(np.array([1.0]),pefa,pefb)[:2]\n",
      "\n",
      "print \"pefc=\",pefc\n",
      "\n"
     ],
     "language": "python",
     "metadata": {},
     "outputs": [
      {
       "output_type": "stream",
       "stream": "stdout",
       "text": [
        "pefc= [ 1.00+0.j -1.05+0.j]\n"
       ]
      }
     ],
     "prompt_number": 8
    },
    {
     "cell_type": "markdown",
     "metadata": {},
     "source": [
      "Spitz' paper says pefa should be (1,-1.05).  This code will produce complex numbers, so the filter should be pefc= [ 1.00+0.j -1.05+0.j]."
     ]
    },
    {
     "cell_type": "markdown",
     "metadata": {},
     "source": [
      "Fit the data with a linear combination of 1/pefb and 1/pefc."
     ]
    },
    {
     "cell_type": "code",
     "collapsed": false,
     "input": [
      "impulse=np.zeros(nx,dtype=complex)\n",
      "impulse[0]=1.0\n",
      "one_over_pefa=sg.lfilter(np.array([1.0]),pefa,impulse)\n",
      "plt.plot(np.real(one_over_pefa))\n",
      "plt.show()\n",
      "\n",
      "one_over_pefc=sg.lfilter(np.array([1.0]),pefc,impulse)\n",
      "plt.plot(np.real(one_over_pefc))\n",
      "plt.show()\n",
      "\n",
      "F=np.matrix([one_over_pefa,one_over_pefc]).transpose()\n",
      "# multiply both sides by A.transpose.conj\n",
      "FctF=F.conj().transpose() * F\n",
      "Fctd=F.conj().transpose() * np.matrix(D[ifreq,:]).transpose()\n",
      "\n",
      "coefficients=sp.linalg.solve(FctF,\n",
      "                    Fctd,sym_pos=True)\n",
      "print 'D=',D[ifreq,:6]\n",
      "print coefficients"
     ],
     "language": "python",
     "metadata": {},
     "outputs": [
      {
       "metadata": {},
       "output_type": "display_data",
       "png": "[encoded data removed]",
       "text": [
        "<matplotlib.figure.Figure at 0x10fc6c450>"
       ]
      },
      {
       "metadata": {},
       "output_type": "display_data",
       "png": "[encoded data removed]",
       "text": [
        "<matplotlib.figure.Figure at 0x10fc86b10>"
       ]
      },
      {
       "output_type": "stream",
       "stream": "stdout",
       "text": [
        "D= [-1.41421356-1.41421356j -1.44956890-1.4495689j  -1.48669201-1.48669201j\n",
        " -1.52567127-1.52567127j -1.56659949-1.56659949j -1.60957413-1.60957413j]\n",
        "[[-0.70710678-0.70710678j]\n",
        " [-0.70710678-0.70710678j]]\n"
       ]
      }
     ],
     "prompt_number": 9
    },
    {
     "cell_type": "markdown",
     "metadata": {},
     "source": [
      "The plots above show the two patterns (basis vectors) used to fit the data.  The first few points of the data D are printed and the weights for the two patterns.  It is simple to verify the first point is fit.  Remembering the model verifies the D is fit.  "
     ]
    },
    {
     "cell_type": "code",
     "collapsed": false,
     "input": [
      "def estimate_pef(D, nevents):\n",
      "    \"\"\"\n",
      "    Estimate a prediction filter of length nevents.  Return prediction error filter (pef) \n",
      "    length nevents+1\n",
      "    \"\"\"\n",
      "    list_of_columns=[]\n",
      "    for icol in range(nevents):\n",
      "        list_of_columns.insert(0,D[icol:icol-nevents])\n",
      "  \n",
      "    An=np.matrix(list_of_columns).transpose()\n",
      "    bn=np.matrix(D[nevents:]).transpose()\n",
      "    AnctAn=An.conj().transpose() * An\n",
      "    Anctbn=An.conj().transpose() * bn\n",
      "    # add small number to diagonal to avoid zero matrix\n",
      "    # probably need 1% whitenoise for general singular pblms\n",
      " \n",
      "    for irow in range(nevents):\n",
      "        AnctAn[irow,irow]+=1e-31\n",
      "        \n",
      "    pfn=sp.linalg.solve(AnctAn,Anctbn,sym_pos=True)\n",
      "\n",
      "    pef=np.zeros(nevents+1,dtype=complex)\n",
      "    pef[0]=1\n",
      "    pef[1:]=-pfn[:,0]  \n",
      "    return pef\n",
      "\n",
      "newpefb=estimate_pef(D[ifreq],2)\n",
      "print \"new pefb=\\n\",newpefb\n",
      "        \n",
      "print \"old pefb=\\n\",pefb\n",
      "newpefa=estimate_pef(M[ifreq],1)\n",
      "newpefc=sg.lfilter(np.array([1.0]),newpefa,newpefb)[:2]\n",
      "print \"newpefa=\",newpefa\n",
      "print \"newpefc=\",newpefc\n"
     ],
     "language": "python",
     "metadata": {},
     "outputs": [
      {
       "output_type": "stream",
       "stream": "stdout",
       "text": [
        "new pefb=\n",
        "[ 1.00+0.j -2.05-0.j  1.05-0.j]\n",
        "old pefb=\n",
        "[ 1.00+0.j -2.05-0.j  1.05-0.j]\n",
        "newpefa= [ 1.+0.j -1.-0.j]\n",
        "newpefc= [ 1.00+0.j -1.05+0.j]\n"
       ]
      }
     ],
     "prompt_number": 10
    },
    {
     "cell_type": "code",
     "collapsed": false,
     "input": [
      "allpefa=np.zeros((2,nf))\n",
      "allpefb=np.zeros((3,nf))\n",
      "allpefc=np.zeros((2,nf))\n",
      "for indxfreq in range(nf):\n",
      "    #print \"indxfreq=\",indxfreq\n",
      "    allpefa[:,indxfreq]=estimate_pef(M[indxfreq],1)\n",
      "    allpefb[:,indxfreq]=estimate_pef(D[indxfreq],2)\n",
      "    allpefc[:,indxfreq]=sg.lfilter(np.array([1.0]),allpefa[:,indxfreq],allpefb[:,indxfreq])[:2]\n",
      "   \n",
      "viewpefa=plt.subplot(1,3,1)\n",
      "plt.imshow(np.real(allpefa),aspect='auto')\n",
      "viewpefb=plt.subplot(1,3,2)\n",
      "plt.imshow(np.real(allpefb),aspect='auto')\n",
      "viewpefc=plt.subplot(1,3,3)\n",
      "plt.imshow(np.real(allpefc),aspect='auto')\n",
      "plt.show()\n"
     ],
     "language": "python",
     "metadata": {},
     "outputs": [
      {
       "output_type": "stream",
       "stream": "stderr",
       "text": [
        "-c:6: ComplexWarning: Casting complex values to real discards the imaginary part\n",
        "-c:7: ComplexWarning: Casting complex values to real discards the imaginary part\n"
       ]
      },
      {
       "metadata": {},
       "output_type": "display_data",
       "png": "[encoded data removed]",
       "text": [
        "<matplotlib.figure.Figure at 0x10fcfe550>"
       ]
      }
     ],
     "prompt_number": 11
    },
    {
     "cell_type": "code",
     "collapsed": false,
     "input": [
      "impulse=np.zeros(nx,dtype=complex)\n",
      "impulse[0]=1.0\n",
      "Sestimate=np.zeros((nf,nx),dtype=complex)\n",
      "Nestimate=np.zeros((nf,nx),dtype=complex)\n",
      "for indxfreq in range(nf):\n",
      "\n",
      "    one_over_pefa=sg.lfilter(np.array([1.0]),allpefa[:,indxfreq],impulse)\n",
      "    one_over_pefc=sg.lfilter(np.array([1.0]),allpefc[:,indxfreq],impulse)\n",
      "\n",
      "    F=np.matrix([one_over_pefa,one_over_pefc]).transpose()\n",
      "    # multiply both sides by A.transpose.conj\n",
      "    FctF=F.conj().transpose() * F\n",
      "    Fctd=F.conj().transpose() * np.matrix(D[indxfreq,:]).transpose()\n",
      "\n",
      "    weights=sp.linalg.solve(F.conj().transpose() * F,\n",
      "                            F.conj().transpose() * np.matrix(D[indxfreq,:]).transpose(),sym_pos=True)\n",
      "    Nestimate[indxfreq,:]=weights[0]*one_over_pefa\n",
      "    Sestimate[indxfreq,:]=weights[1]*one_over_pefc\n",
      "    \n",
      "\n",
      "# forward fft\n",
      "#S=np.fft.rfft(s,n=fft_length,axis=0)\n",
      "# inverse fft. extra [:nt,:] gets rid of fft padding\n",
      "sestimate=(np.fft.irfft(Sestimate,n=fft_length,axis=0))[:nt,:]\n",
      "nestimate=(np.fft.irfft(Nestimate,n=fft_length,axis=0))[:nt,:]\n",
      "#print sestimate\n",
      "view_sest=plt.subplot(1,2,1)\n",
      "plt.imshow(sestimate,aspect='auto')\n",
      "view_nest=plt.subplot(1,2,2)\n",
      "plt.imshow(nestimate,aspect='auto')\n",
      "plt.show()"
     ],
     "language": "python",
     "metadata": {},
     "outputs": [
      {
       "metadata": {},
       "output_type": "display_data",
       "png": "[encoded data removed]",
       "text": [
        "<matplotlib.figure.Figure at 0x10fcd9350>"
       ]
      }
     ],
     "prompt_number": 12
    },
    {
     "cell_type": "code",
     "collapsed": false,
     "input": [
      "for indxfreq in range(nf):\n",
      "    #print \"indxfreq=\",indxfreq\n",
      "    pefal=estimate_pef(M[indxfreq],1)\n",
      "    pefbl=estimate_pef(D[indxfreq],2)\n",
      "    pefcl=sg.lfilter(np.array([1.0]),pefal,pefbl)[:2]\n",
      "    one_over_pefa=sg.lfilter(np.array([1.0]),pefal,impulse)\n",
      "    one_over_pefc=sg.lfilter(np.array([1.0]),pefcl,impulse)\n",
      "\n",
      "    F=np.matrix([one_over_pefa,one_over_pefc]).transpose()\n",
      "    # multiply both sides by A.transpose.conj\n",
      "    FctF=F.conj().transpose() * F\n",
      "    Fctd=F.conj().transpose() * np.matrix(D[indxfreq,:]).transpose()\n",
      "\n",
      "    weights=sp.linalg.solve(FctF, Fctd, sym_pos=True)\n",
      "    Nestimate[indxfreq,:]=weights[0]*one_over_pefa\n",
      "    Sestimate[indxfreq,:]=weights[1]*one_over_pefc\n",
      "    \n",
      "# inverse fft. extra [:nt,:] gets rid of fft padding\n",
      "sestimate=(np.fft.irfft(Sestimate,n=fft_length,axis=0))[:nt,:]\n",
      "nestimate=(np.fft.irfft(Nestimate,n=fft_length,axis=0))[:nt,:]\n",
      "#print sestimate\n",
      "view_sest=plt.subplot(1,2,1)\n",
      "plt.imshow(sestimate,aspect='auto')\n",
      "view_nest=plt.subplot(1,2,2)\n",
      "plt.imshow(nestimate,aspect='auto')\n",
      "plt.savefig('seperatedcomponents.png')\n",
      "plt.show()\n"
     ],
     "language": "python",
     "metadata": {},
     "outputs": [
      {
       "metadata": {},
       "output_type": "display_data",
       "png": "[encoded data removed]",
       "text": [
        "<matplotlib.figure.Figure at 0x11011c750>"
       ]
      }
     ],
     "prompt_number": 13
    },
    {
     "cell_type": "code",
     "collapsed": false,
     "input": [],
     "language": "python",
     "metadata": {},
     "outputs": [],
     "prompt_number": 13
    },
    {
     "cell_type": "code",
     "collapsed": false,
     "input": [],
     "language": "python",
     "metadata": {},
     "outputs": []
    }
   ],
   "metadata": {}
  }
 ]
}