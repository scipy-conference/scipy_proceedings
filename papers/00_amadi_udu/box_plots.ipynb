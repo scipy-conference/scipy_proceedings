{
 "cells": [
  {
   "cell_type": "code",
   "execution_count": 22,
   "id": "c61ee80e",
   "metadata": {},
   "outputs": [],
   "source": [
    "import pandas as pd\n",
    "import ast\n",
    "import matplotlib.pyplot as plt\n",
    "import numpy as np"
   ]
  },
  {
   "cell_type": "code",
   "execution_count": 23,
   "id": "07a7fcfe",
   "metadata": {},
   "outputs": [],
   "source": [
    "#choose dataset from list\n",
    "# datasets: 'census_income', 'bank_marketing', 'statlog_shuttle',  'diabetes',  'gsvs',\n",
    "dataset = 'census_income'\n",
    "df = pd.read_csv(f'{dataset}.csv')"
   ]
  },
  {
   "cell_type": "markdown",
   "id": "02f49035",
   "metadata": {},
   "source": [
    "## box plot for lgbm"
   ]
  },
  {
   "cell_type": "code",
   "execution_count": 24,
   "id": "6c3046ad",
   "metadata": {},
   "outputs": [],
   "source": [
    "model = 'lgbm'\n",
    "lgbm_df = pd.read_csv(f'results/{model}/{model}_{dataset}_combined_importances.csv')\n",
    "lgbm_df['AUC'] = lgbm_df['AUC'].apply(lambda x: ast.literal_eval(x))\n",
    "\n",
    "number = 0\n",
    "y_ticks = np.round(np.arange(0.1, 1.1, 0.1), 2).tolist()\n",
    "xmin, xmax = round(min(min(lgbm_df['AUC'])),2)-0.05, round(max(max(lgbm_df['AUC'])),2)+0.1\n",
    "for _ in range(int(lgbm_df.shape[0]/10)):\n",
    "    f_no = lgbm_df['Feature_ID'].iloc[0+number]\n",
    "    plt.figure()\n",
    "    lgbm_df['AUC'].iloc[0+number:10+number].apply(lambda x: pd.Series(x)).T.boxplot(figsize=(7, 5), vert=False,\n",
    "                                                            boxprops=dict(color='blue'),\n",
    "                                                            medianprops=dict(color='green'),\n",
    "                                                            flierprops=dict(marker='x', markersize=6, markeredgecolor='red'),\n",
    "                                                            whiskerprops=dict(linestyle='--', dashes = (10, 5)))\n",
    "    \n",
    "    plt.rc('font', family='Times New Roman')\n",
    "    plt.xlabel('Decrease in AUC',fontsize=14)\n",
    "    plt.ylabel('Sample Fractions',fontsize=14)\n",
    "    plt.yticks(ticks=np.arange(1, 11), labels=y_ticks)\n",
    "\n",
    "    plt.xlim([xmin, xmax])\n",
    "    plt.axvline(x=0, color='black', linestyle='-.')\n",
    "    plt.tick_params(axis='both', which='major', labelsize=14)\n",
    "    plt.grid(visible=True)\n",
    "    plt.tight_layout()\n",
    "    plt.savefig(f'results/{model}/{model}_{dataset}_feature_{f_no}.png', dpi=300, bbox_inches='tight')\n",
    "    plt.clf()\n",
    "    plt.close()\n",
    "    number += 10"
   ]
  },
  {
   "cell_type": "markdown",
   "id": "c33c4cce",
   "metadata": {},
   "source": [
    "## box plot for rf"
   ]
  },
  {
   "cell_type": "code",
   "execution_count": 19,
   "id": "870ebead",
   "metadata": {},
   "outputs": [],
   "source": [
    "model = 'rf'\n",
    "rf_df = pd.read_csv(f'results/{model}/{model}_{dataset}_combined_importances.csv')\n",
    "rf_df['AUC'] = rf_df['AUC'].apply(lambda x: ast.literal_eval(x))\n",
    "\n",
    "number = 0\n",
    "y_ticks = np.round(np.arange(0.1, 1.1, 0.1), 2).tolist()\n",
    "xmin, xmax = round(min(min(final_df['AUC'])),2)-0.05, round(max(max(final_df['AUC'])),2)+0.1\n",
    "for _ in range(int(rf_df.shape[0]/10)):\n",
    "    f_no = rf_df['Feature_ID'].iloc[0+number]\n",
    "    plt.figure()  \n",
    "    rf_df['AUC'].iloc[0 + number:10 + number].apply(lambda x: pd.Series(x)).T.boxplot(\n",
    "        vert=False,\n",
    "        boxprops=dict(color='green'),\n",
    "        medianprops=dict(color='purple'),\n",
    "        flierprops=dict(marker='x', markersize=6, markeredgecolor='red'),\n",
    "        whiskerprops=dict(linestyle=':', dashes=(5, 5))\n",
    "    )\n",
    "    \n",
    "    plt.rc('font', family='Times New Roman')\n",
    "    plt.xlabel('Decrease in AUC',fontsize=14)\n",
    "    plt.ylabel('Sample Fractions',fontsize=14)\n",
    "    plt.yticks(ticks=np.arange(1, 11), labels=y_ticks)\n",
    "\n",
    "    plt.xlim([xmin, xmax])\n",
    "    plt.axvline(x=0, color='black', linestyle='-.')\n",
    "    plt.tick_params(axis='both', which='major', labelsize=14)\n",
    "    plt.grid(visible=True)\n",
    "    plt.tight_layout()\n",
    "    plt.savefig(f'results/{model}/{model}_{dataset}_feature_{f_no}.png', dpi=300, bbox_inches='tight')\n",
    "    plt.clf()\n",
    "    plt.close()\n",
    "    number += 10"
   ]
  },
  {
   "cell_type": "markdown",
   "id": "c71531eb",
   "metadata": {},
   "source": [
    "## box plot for svm"
   ]
  },
  {
   "cell_type": "code",
   "execution_count": 21,
   "id": "9f646266",
   "metadata": {
    "scrolled": true
   },
   "outputs": [],
   "source": [
    "model = 'svm'\n",
    "svm_df = pd.read_csv(f'results/{model}/{model}_{dataset}_combined_importances.csv')\n",
    "svm_df['AUC'] = svm_df['AUC'].apply(lambda x: ast.literal_eval(x))\n",
    "\n",
    "number = 0\n",
    "y_ticks = np.round(np.arange(0.1, 1.1, 0.1), 2).tolist()\n",
    "xmin, xmax = round(min(min(final_df['AUC'])),2)-0.05, round(max(max(final_df['AUC'])),2)+0.1\n",
    "for _ in range(int(svm_df.shape[0]/10)):\n",
    "    f_no = svm_df['Feature_ID'].iloc[0+number]\n",
    "    plt.figure() \n",
    "    svm_df['AUC'].iloc[0 + number:10 + number].apply(lambda x: pd.Series(x)).T.boxplot(\n",
    "        vert=False,\n",
    "        boxprops=dict(color='purple'),\n",
    "        medianprops=dict(color='black'),\n",
    "        flierprops=dict(marker='x', markersize=6, markeredgecolor='red'),\n",
    "        whiskerprops=dict(linestyle='-.', dashes=(5, 2))\n",
    "    )\n",
    "    plt.rc('font', family='Times New Roman')\n",
    "    plt.xlabel('Decrease in AUC',fontsize=14)\n",
    "    plt.ylabel('Sample Fractions',fontsize=14)\n",
    "    plt.yticks(ticks=np.arange(1, 11), labels=y_ticks)\n",
    "\n",
    "    plt.xlim([xmin, xmax])\n",
    "    plt.axvline(x=0, color='black', linestyle='-.')\n",
    "    plt.tick_params(axis='both', which='major', labelsize=14)\n",
    "    plt.grid(visible=True)\n",
    "    plt.tight_layout()\n",
    "    plt.savefig(f'results/{model}/{model}_{dataset}_feature_{f_no}.png', dpi=300, bbox_inches='tight')\n",
    "    plt.clf()\n",
    "    plt.close()\n",
    "    number += 10"
   ]
  }
 ],
 "metadata": {
  "kernelspec": {
   "display_name": "Python 3 (ipykernel)",
   "language": "python",
   "name": "python3"
  },
  "language_info": {
   "codemirror_mode": {
    "name": "ipython",
    "version": 3
   },
   "file_extension": ".py",
   "mimetype": "text/x-python",
   "name": "python",
   "nbconvert_exporter": "python",
   "pygments_lexer": "ipython3",
   "version": "3.8.8"
  }
 },
 "nbformat": 4,
 "nbformat_minor": 5
}
